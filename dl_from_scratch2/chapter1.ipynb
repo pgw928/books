{
 "cells": [
  {
   "cell_type": "code",
   "execution_count": 4,
   "metadata": {},
   "outputs": [
    {
     "name": "stdout",
     "output_type": "stream",
     "text": [
      "(4,)\n",
      "(10, 4)\n"
     ]
    }
   ],
   "source": [
    "import numpy as np\n",
    "W1 = np.random.randn(2, 4)\n",
    "\n",
    "b1 = np.random.randn(4)     # broadcasting 될 예정 => (10,4)로\n",
    "print(b1.shape)                \n",
    "x = np.random.randn(10, 2)  # 10개의 dataset 및 2개의 feature\n",
    "print(np.matmul(x, W1).shape)\n",
    "h = np.matmul(x, W1) + b1   # hidden layer"
   ]
  },
  {
   "cell_type": "markdown",
   "metadata": {},
   "source": [
    "완전 연결계층에 의한 변환은 `선형`변환이다.\\\n",
    "`비선형` 효과를 부여하는 것이 활성화 함수이다. (활성화 함수는 신경망의 표현력을 높여 준다.)\\\n",
    "여기서는 **sigmoid** 함수를 사용한다.\\\n",
    "$ \\sigma(x) = \\frac{1}{1+e^{-x}}$\n",
    "\n"
   ]
  },
  {
   "cell_type": "code",
   "execution_count": 22,
   "metadata": {
    "scrolled": false
   },
   "outputs": [
    {
     "data": {
      "image/png": "[encoded data removed]",
      "text/plain": [
       "<Figure size 432x288 with 1 Axes>"
      ]
     },
     "metadata": {
      "needs_background": "light"
     },
     "output_type": "display_data"
    }
   ],
   "source": [
    "import matplotlib.pyplot as plt\n",
    "\n",
    "def sigmoid(x):\n",
    "    \n",
    "    return 1/(1+np.exp(-x))\n",
    "\n",
    "x = np.linspace(-4,4,20)\n",
    "y = sigmoid(x)\n",
    "\n",
    "plt.plot(x, y,)\n",
    "plt.axis('tight')\n",
    "plt.show()"
   ]
  },
  {
   "cell_type": "code",
   "execution_count": 35,
   "metadata": {},
   "outputs": [
    {
     "name": "stdout",
     "output_type": "stream",
     "text": [
      "(10, 3)\n",
      "[[-1.375763    1.07540906  0.79043365]\n",
      " [-1.5392087   0.53618984  1.13737809]\n",
      " [-1.73785714 -0.15732445  1.79672661]\n",
      " [-1.26341081  1.45617926  0.41838612]\n",
      " [-1.68488904 -0.00903791  1.58478072]\n",
      " [-1.63916146  0.07902332  1.48521613]\n",
      " [-1.46789883  0.80311897  0.95349206]\n",
      " [-1.25028109  1.4822981   0.39389648]\n",
      " [-1.41645818  0.93977113  0.88541392]\n",
      " [-1.71638621 -0.13290928  1.71413077]]\n"
     ]
    }
   ],
   "source": [
    "import numpy as np\n",
    "W1 = np.random.randn(2, 4)\n",
    "\n",
    "b1 = np.random.randn(4)     # broadcasting 될 예정 => (10,4)로\n",
    "x = np.random.randn(10, 2)  # 10개의 dataset 및 2개의 feature\n",
    "\n",
    "h = np.matmul(x, W1) + b1   # hidden layer\n",
    "a = sigmoid(h)  # activation\n",
    "\n",
    "\n",
    "\n",
    "W2 = np.random.randn(4, 3)\n",
    "b2 = np.random.randn(3)\n",
    "\n",
    "\n",
    "s = np.matmul(a, W2) + b2   # score : 확률이 되기 전의 값\n",
    "print(s.shape)  #  10 : size of dataset,  3 : class 개수\n",
    "print(s)"
   ]
  },
  {
   "cell_type": "markdown",
   "metadata": {},
   "source": [
    "#### 1.2.2 layer 클래스화 및 forward propagation 구현\n",
    "> NN의 추론 과정에서 하는 처리는 신경망의 forward propagation에 해당된다.(입력층 → 출력층)\\\n",
    "\n",
    "여기서는 다음의 **구현** **규칙**을 따른다.\n",
    "* 모든 layer는 forward()와 backward() 메소드를 지닌다.\n",
    "* 모든 layer는 인스턴스 변수인 params와 grads를 지닌다."
   ]
  },
  {
   "cell_type": "code",
   "execution_count": 38,
   "metadata": {},
   "outputs": [],
   "source": [
    "import numpy as np\n",
    "\n",
    "class Sigmoid:\n",
    "    \n",
    "    def __init__(self):\n",
    "        self.params = []    \n",
    "    def forward(self, x):\n",
    "        return 1/ (1 + np.exp(-x))"
   ]
  },
  {
   "cell_type": "code",
   "execution_count": 40,
   "metadata": {},
   "outputs": [],
   "source": [
    "class Affine:\n",
    "    \n",
    "    '''초기화될 때 가중치와 편향을 받는다.'''\n",
    "    \n",
    "    def __init__(self, W, b):\n",
    "        self.params = [W, b]\n",
    "    def forward(self, x):\n",
    "        W, b = self.params\n",
    "        out = np.matmul(x, W) + b\n",
    "        return out"
   ]
  },
  {
   "cell_type": "code",
   "execution_count": 45,
   "metadata": {},
   "outputs": [],
   "source": [
    "class Twolayernet:\n",
    "    \n",
    "    def __init__(self, input_size, hidden_size, output_size):\n",
    "        I, H, O = input_size, hidden_size, output_size\n",
    "        \n",
    "        W1 = np.random.randn(I, H)\n",
    "        b1 = np.random.randn(H)\n",
    "        W2 = np.random.randn(H, O)\n",
    "        b2 = np.random.randn(O)\n",
    "        \n",
    "        # 계층 생성\n",
    "        self.layers= [Affine(W1, b1), Sigmoid(), Affine(W2, b2)]\n",
    "        \n",
    "        # 모든 weight를 리스트에 저장한다.\n",
    "        self.params = []\n",
    "        for layer in self.layers:\n",
    "            self.params.extend(layer.params)\n",
    "            \n",
    "    def predict(self, x):\n",
    "        for layer in self.layers:\n",
    "            x = layer.forward(x)\n",
    "        return x"
   ]
  },
  {
   "cell_type": "code",
   "execution_count": 48,
   "metadata": {},
   "outputs": [
    {
     "name": "stdout",
     "output_type": "stream",
     "text": [
      "[[-2.32775844 -1.23337548  0.07916808]\n",
      " [-2.36664943 -1.21492053  0.04737826]\n",
      " [-0.92649134 -1.48556621  2.01273966]\n",
      " [-1.95592574 -1.33846548  0.43297982]\n",
      " [-2.61660152 -1.12495107 -0.14989949]\n",
      " [-1.75166186 -1.34029953  0.71283376]\n",
      " [-2.65635276 -1.04712975 -0.17317129]\n",
      " [-1.42429697 -1.41857888  1.15451821]\n",
      " [-1.92324757 -1.26396662  0.54004736]\n",
      " [-1.22556666 -1.44429759  1.51139528]]\n"
     ]
    }
   ],
   "source": [
    "x = np.random.randn(10, 2)\n",
    "model = Twolayernet(2, 4, 3)\n",
    "s = model.predict(x)\n",
    "print(s)"
   ]
  },
  {
   "cell_type": "markdown",
   "metadata": {},
   "source": [
    "## 1.3 신경망의 학습\n",
    "> 추론은 답을 구하는 과정이지만 학습은 최적의 매개변수 값을 찾는 작업이다."
   ]
  },
  {
   "cell_type": "markdown",
   "metadata": {},
   "source": [
    "#### 1.3.1 loss function (cost function , 손실함수)\n",
    "> 얼마나 학습이 잘 되고 있는 알아보는 **척도**이다. 정답 레이블과 예측 결과를 비교해 예측이 얼마나 나쁜가를 산출하는 스칼라 값이다.\\\n",
    "\n",
    "* multi-class classification에서는 `Cross Entropy Error`를  loss function으로 이용\n",
    "* 계층 구성  : Input → Affine → Sigmoid → Affine → Softmax → Cross Entropy Error → Output\n",
    "* softmax function : $y_k = \\frac{\\exp(s_k)}{\\sum_{i=1}^{n}{\\exp(s_i)}}$ , 0이상 1이하의 실수값이다.\n",
    "* cross entropy error : $L=-\\sum_{k}(t_k \\log{y_k})$, $t_k$"
   ]
  },
  {
   "cell_type": "markdown",
   "metadata": {},
   "source": []
  }
 ],
 "metadata": {
  "kernelspec": {
   "display_name": "Python [conda env:.conda-data_env_tensorflow2] *",
   "language": "python",
   "name": "conda-env-.conda-data_env_tensorflow2-py"
  },
  "language_info": {
   "codemirror_mode": {
    "name": "ipython",
    "version": 3
   },
   "file_extension": ".py",
   "mimetype": "text/x-python",
   "name": "python",
   "nbconvert_exporter": "python",
   "pygments_lexer": "ipython3",
   "version": "3.7.9"
  }
 },
 "nbformat": 4,
 "nbformat_minor": 4
}
